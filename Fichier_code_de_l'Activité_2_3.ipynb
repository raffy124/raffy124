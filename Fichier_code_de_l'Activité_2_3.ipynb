{
  "nbformat": 4,
  "nbformat_minor": 0,
  "metadata": {
    "colab": {
      "provenance": [],
      "include_colab_link": true
    },
    "kernelspec": {
      "name": "python3",
      "display_name": "Python 3"
    },
    "language_info": {
      "name": "python"
    }
  },
  "cells": [
    {
      "cell_type": "markdown",
      "metadata": {
        "id": "view-in-github",
        "colab_type": "text"
      },
      "source": [
        "<a href=\"https://colab.research.google.com/github/raffy124/raffy124/blob/main/Fichier_code_de_l'Activit%C3%A9_2_3.ipynb\" target=\"_parent\"><img src=\"https://colab.research.google.com/assets/colab-badge.svg\" alt=\"Open In Colab\"/></a>"
      ]
    },
    {
      "cell_type": "code",
      "source": [
        "#définition de la réaction étudiée\n",
        "reactifa = input(\"Enter la formule chimique du réactif A : \")\n",
        "a = float(input(\" Entrez la valeur du coefficient stoechiométrique devant A : \"))\n",
        "reactifb = input(\"Enter la formule chimique du réactif B : \")\n",
        "b = float(input(\" Entrez la valeur du coefficient stoechiométrique devant B : \"))\n",
        "produitc = input(\"Enter la formule chimique du produit C : \")\n",
        "c = float(input(\" Entrez la valeur du coefficient stoechiométrique devant C : \"))\n",
        "produitd = input(\"Enter la formule chimique du produit D : \")\n",
        "d = float(input(\" Entrez la valeur du coefficient stoechiométrique devant D : \"))\n",
        "print(\"La réaction étudiée est : \",a,reactifa , \" + \",b, reactifb , \" -> \",c,produitc , \" + \",d,produitd )\n",
        "#Demande à l'utilisateur les valeurs des quantités de matière initiales\n",
        "n1 = float(input(\" Entrez la valeur de la quantité de matière initiale de réactif A en mol: \"))\n",
        "n2 = float(input(\" Entrez la valeur de la quantité de matière initiale de réactif B en mol: \"))\n",
        "n3 = float(input(\" Entrez la valeur de la quantité de matière initiale de produit C en mol: \"))\n",
        "n4 = float(input(\" Entrez la valeur de la quantité de matière initiale de produit D en mol: \"))\n",
        "#hypothese 1: A est le réactif limitant\n",
        "if n1/a<n2/b :\n",
        "    xmax = n1/a\n",
        "    n1f=0\n",
        "    n2f= n2 - b*xmax\n",
        "    n3f=c*xmax + n3\n",
        "    n4f=d*xmax + n4\n",
        "    print(reactifa , \" est le réactif limitant\")\n",
        "#hypothèse 2: B est le réactif limitant\n",
        "elif .................... :\n",
        "    xmax = ....................\n",
        "    n2f= ....................\n",
        "    n1f= ....................\n",
        "    n3f= ....................\n",
        "    n4f= ....................\n",
        "    print(reactifb , \" est le réactif limitant\")\n",
        "# cas où le mélange est stoechiométrique\n",
        "else :\n",
        "    xmax = ....................\n",
        "    n1f= ....................\n",
        "    n2f= ....................\n",
        "    n3f= ....................\n",
        "    n4f= ....................\n",
        "    print(\"les réactifs ont été introduits dans les proportions stoechiometriques\")\n",
        "#affichage de l'état du systeme à l'état final\n",
        "print(\"A l'etat final , la quantité de matière de \",reactifa , \" vaut :\",n1f ,\"mol\")\n",
        "print(\"A l'etat final , la quantité de matière de \",reactifb , \" vaut :\",n2f ,\"mol\")\n",
        "print(\"A l'etat final , la quantité de matière de \",produitc , \" vaut :\",n3f ,\"mol\")\n",
        "print(\"A l'etat final , la quantité de matière de \",produitd , \" vaut :\",n4f ,\"mol\")"
      ],
      "metadata": {
        "colab": {
          "base_uri": "https://localhost:8080/",
          "height": 106
        },
        "id": "IyZVA9NtEPKK",
        "outputId": "5bb95e2f-3956-4e5e-de92-38e38ce00afc"
      },
      "execution_count": null,
      "outputs": [
        {
          "output_type": "error",
          "ename": "SyntaxError",
          "evalue": "invalid syntax (<ipython-input-1-2ebb16cd089b>, line 25)",
          "traceback": [
            "\u001b[0;36m  File \u001b[0;32m\"<ipython-input-1-2ebb16cd089b>\"\u001b[0;36m, line \u001b[0;32m25\u001b[0m\n\u001b[0;31m    elif .................... :\u001b[0m\n\u001b[0m            ^\u001b[0m\n\u001b[0;31mSyntaxError\u001b[0m\u001b[0;31m:\u001b[0m invalid syntax\n"
          ]
        }
      ]
    }
  ]
}